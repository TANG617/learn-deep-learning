{
 "cells": [
  {
   "cell_type": "code",
   "execution_count": 1,
   "metadata": {
    "ExecuteTime": {
     "end_time": "2024-03-25T11:07:01.462675Z",
     "start_time": "2024-03-25T11:06:59.476559Z"
    }
   },
   "outputs": [],
   "source": [
    "import matplotlib.pyplot as plt\n",
    "import torch\n",
    "import torch.nn as nn\n",
    "from torch.autograd import Variable\n",
    "from torch.utils.data import DataLoader\n",
    "import pandas as pd\n",
    "import numpy as np\n",
    "\n",
    "from sklearn.model_selection import train_test_split"
   ]
  },
  {
   "cell_type": "code",
   "outputs": [],
   "source": [
    "device = torch.device('mps')"
   ],
   "metadata": {
    "collapsed": false,
    "ExecuteTime": {
     "end_time": "2024-03-25T11:07:01.465999Z",
     "start_time": "2024-03-25T11:07:01.464003Z"
    }
   },
   "execution_count": 2
  },
  {
   "cell_type": "code",
   "outputs": [],
   "source": [
    "train = pd.read_csv(r\"input/train.csv\",dtype=np.float32)\n",
    "target_numpy = train.label.values\n",
    "feature_numpy = train.loc[:, train.columns != 'label'].values/255"
   ],
   "metadata": {
    "collapsed": false,
    "ExecuteTime": {
     "end_time": "2024-03-25T11:07:02.522Z",
     "start_time": "2024-03-25T11:07:01.466674Z"
    }
   },
   "execution_count": 3
  },
  {
   "cell_type": "code",
   "outputs": [],
   "source": [
    "features_train, features_test, targets_train, targets_test = (\n",
    "    train_test_split(feature_numpy,target_numpy,test_size = 0.2,random_state = 42)) "
   ],
   "metadata": {
    "collapsed": false,
    "ExecuteTime": {
     "end_time": "2024-03-25T11:07:02.691047Z",
     "start_time": "2024-03-25T11:07:02.524108Z"
    }
   },
   "execution_count": 4
  },
  {
   "cell_type": "code",
   "outputs": [],
   "source": [
    "featureTrain = torch.from_numpy(features_train)\n",
    "targetTrain = torch.from_numpy(targets_train).type(torch.LongTensor)"
   ],
   "metadata": {
    "collapsed": false,
    "ExecuteTime": {
     "end_time": "2024-03-25T11:07:02.698221Z",
     "start_time": "2024-03-25T11:07:02.692813Z"
    }
   },
   "execution_count": 5
  },
  {
   "cell_type": "code",
   "outputs": [],
   "source": [
    "featureTest = torch.from_numpy(features_test)\n",
    "targetTest = torch.from_numpy(targets_test).type(torch.LongTensor)"
   ],
   "metadata": {
    "collapsed": false,
    "ExecuteTime": {
     "end_time": "2024-03-25T11:07:02.701610Z",
     "start_time": "2024-03-25T11:07:02.699337Z"
    }
   },
   "execution_count": 6
  },
  {
   "cell_type": "code",
   "outputs": [],
   "source": [
    "batch_size = 1000\n",
    "n_iters = 10000\n",
    "n_epochs = int(n_iters * batch_size / len(features_train))"
   ],
   "metadata": {
    "collapsed": false,
    "ExecuteTime": {
     "end_time": "2024-03-25T11:07:02.706936Z",
     "start_time": "2024-03-25T11:07:02.702921Z"
    }
   },
   "execution_count": 7
  },
  {
   "cell_type": "code",
   "outputs": [],
   "source": [
    "train = torch.utils.data.TensorDataset(featureTrain,targetTrain)\n",
    "test = torch.utils.data.TensorDataset(featureTest,targetTest)\n",
    "\n",
    "\n",
    "trainloader = torch.utils.data.DataLoader(train,batch_size=batch_size,shuffle=False)\n",
    "testloader = torch.utils.data.DataLoader(test,batch_size=batch_size,shuffle=False)"
   ],
   "metadata": {
    "collapsed": false,
    "ExecuteTime": {
     "end_time": "2024-03-25T11:08:04.492719Z",
     "start_time": "2024-03-25T11:08:04.488337Z"
    }
   },
   "execution_count": 9
  },
  {
   "cell_type": "code",
   "outputs": [
    {
     "data": {
      "text/plain": "<Figure size 640x480 with 1 Axes>",
      "image/png": "[encoded data removed]"
     },
     "metadata": {},
     "output_type": "display_data"
    }
   ],
   "source": [
    "plt.imshow(feature_numpy[10].reshape(28,28))\n",
    "plt.axis(\"off\")\n",
    "plt.title(str(target_numpy[10]))\n",
    "plt.savefig('graph.png')\n",
    "plt.show()"
   ],
   "metadata": {
    "collapsed": false,
    "ExecuteTime": {
     "end_time": "2024-03-25T11:08:06.457770Z",
     "start_time": "2024-03-25T11:08:06.370271Z"
    }
   },
   "execution_count": 10
  },
  {
   "cell_type": "code",
   "outputs": [],
   "source": [
    "class Net(nn.Module):\n",
    "    def __init__(self,in_dim,out_dim):\n",
    "        super(Net,self).__init__()\n",
    "        self.linear = nn.Linear(in_dim,out_dim)\n",
    "        \n",
    "    def forward(self,x):\n",
    "        out = self.linear(x)\n",
    "        return out\n",
    "    "
   ],
   "metadata": {
    "collapsed": false,
    "ExecuteTime": {
     "end_time": "2024-03-25T11:08:11.641132Z",
     "start_time": "2024-03-25T11:08:11.637158Z"
    }
   },
   "execution_count": 11
  },
  {
   "cell_type": "code",
   "outputs": [],
   "source": [
    "# in_dim = 28*28\n",
    "# out_dim = 10\n",
    "# # model2 = Net(in_dim = 28*28,out_dim = 10)\n",
    "# da = torch.from_numpy(feature_numpy[10].reshape(28,28))\n",
    "# model2 = nn.Linear(28*28,10,dtype=torch.uint8)\n",
    "# model2(da)\n",
    "# # model2(torch.from_numpy(feature_numpy[10].reshape(28,28)))"
   ],
   "metadata": {
    "collapsed": false,
    "ExecuteTime": {
     "end_time": "2024-03-25T11:08:13.149015Z",
     "start_time": "2024-03-25T11:08:13.145735Z"
    }
   },
   "execution_count": 12
  },
  {
   "cell_type": "code",
   "outputs": [],
   "source": [
    "in_dim = 28*28\n",
    "out_dim = 10\n",
    "model = Net(in_dim = in_dim,out_dim = out_dim)\n",
    "\n",
    "# model.to(device)\n",
    "loss_func = nn.CrossEntropyLoss()\n",
    "lr = 0.001\n",
    "optimizer = torch.optim.SGD(model.parameters(),lr=lr)"
   ],
   "metadata": {
    "collapsed": false,
    "ExecuteTime": {
     "end_time": "2024-03-25T11:10:45.059149Z",
     "start_time": "2024-03-25T11:10:45.053329Z"
    }
   },
   "execution_count": 19
  },
  {
   "cell_type": "code",
   "outputs": [
    {
     "name": "stdout",
     "output_type": "stream",
     "text": [
      "Iteration: 500  Loss: 1.890451431274414  Accuracy: 65.44047546386719%\n",
      "Iteration: 1000  Loss: 1.5832371711730957  Accuracy: 74.61904907226562%\n",
      "Iteration: 1500  Loss: 1.37285315990448  Accuracy: 78.04762268066406%\n",
      "Iteration: 2000  Loss: 1.2441550493240356  Accuracy: 79.77381134033203%\n",
      "Iteration: 2500  Loss: 1.122249960899353  Accuracy: 80.92857360839844%\n",
      "Iteration: 3000  Loss: 1.0375937223434448  Accuracy: 81.94047546386719%\n",
      "Iteration: 3500  Loss: 0.9384924173355103  Accuracy: 82.42857360839844%\n",
      "Iteration: 4000  Loss: 0.8854278326034546  Accuracy: 82.92857360839844%\n",
      "Iteration: 4500  Loss: 0.8737263083457947  Accuracy: 83.48809814453125%\n",
      "Iteration: 5000  Loss: 0.8052535653114319  Accuracy: 83.83333587646484%\n",
      "Iteration: 5500  Loss: 0.7697465419769287  Accuracy: 84.26190185546875%\n",
      "Iteration: 6000  Loss: 0.7509965300559998  Accuracy: 84.52381134033203%\n",
      "Iteration: 6500  Loss: 0.7051258683204651  Accuracy: 84.78571319580078%\n",
      "Iteration: 7000  Loss: 0.7116933465003967  Accuracy: 84.96428680419922%\n",
      "Iteration: 7500  Loss: 0.6588704586029053  Accuracy: 85.11904907226562%\n",
      "Iteration: 8000  Loss: 0.6464894413948059  Accuracy: 85.3452377319336%\n",
      "Iteration: 8500  Loss: 0.631722092628479  Accuracy: 85.47618865966797%\n",
      "Iteration: 9000  Loss: 0.635862410068512  Accuracy: 85.71428680419922%\n",
      "Iteration: 9500  Loss: 0.62149977684021  Accuracy: 85.78571319580078%\n",
      "Iteration: 10000  Loss: 0.5962783694267273  Accuracy: 85.86904907226562%\n"
     ]
    }
   ],
   "source": [
    "cnt = 0\n",
    "loss_list = []\n",
    "iter_list = []\n",
    "for epoch in range(n_epochs):\n",
    "    for i,(images,labels) in enumerate(trainloader):\n",
    "        train = Variable(images.view(-1,28*28))\n",
    "        train.to(device)\n",
    "        \n",
    "        \n",
    "        # print(train.shape)\n",
    "        \n",
    "        out = model(train)\n",
    "        labels = Variable(labels)\n",
    "        optimizer.zero_grad()\n",
    "        loss = loss_func(out,labels)\n",
    "        loss.backward()\n",
    "        optimizer.step()\n",
    "        cnt += 1\n",
    "        \n",
    "        if cnt % 50 == 0:\n",
    "            # Calculate Accuracy         \n",
    "            correct = 0\n",
    "            total = 0\n",
    "            # Predict test dataset\n",
    "            for images, labels in testloader: \n",
    "                test = Variable(images.view(-1, 28*28))\n",
    "                \n",
    "                # Forward propagation\n",
    "                outputs = model(test)\n",
    "                \n",
    "                # Get predictions from the maximum value\n",
    "                predicted = torch.max(outputs.data, 1)[1]\n",
    "                \n",
    "                # Total number of labels\n",
    "                total += len(labels)\n",
    "                \n",
    "                # Total correct predictions\n",
    "                correct += (predicted == labels).sum()\n",
    "            \n",
    "            accuracy = 100 * correct / float(total)\n",
    "            \n",
    "            # store loss and iteration\n",
    "            loss_list.append(loss.data)\n",
    "            iter_list.append(cnt)\n",
    "        if cnt % 500 == 0:\n",
    "            # Print Loss\n",
    "            print('Iteration: {}  Loss: {}  Accuracy: {}%'.format(cnt, loss.data, accuracy))"
   ],
   "metadata": {
    "collapsed": false,
    "ExecuteTime": {
     "end_time": "2024-03-25T11:11:59.553066Z",
     "start_time": "2024-03-25T11:10:45.809975Z"
    }
   },
   "execution_count": 20
  },
  {
   "cell_type": "code",
   "outputs": [
    {
     "data": {
      "text/plain": "<Figure size 640x480 with 1 Axes>",
      "image/png": "[encoded data removed]"
     },
     "metadata": {},
     "output_type": "display_data"
    }
   ],
   "source": [
    "plt.plot(iter_list,loss_list)\n",
    "plt.xlabel(\"Number of iteration\")\n",
    "plt.ylabel(\"Loss\")\n",
    "plt.title(\"Logistic Regression: Loss vs Number of iteration\")\n",
    "plt.show()\n"
   ],
   "metadata": {
    "collapsed": false,
    "ExecuteTime": {
     "end_time": "2024-03-25T11:12:22.106818Z",
     "start_time": "2024-03-25T11:12:22.007694Z"
    }
   },
   "execution_count": 21
  },
  {
   "cell_type": "code",
   "outputs": [],
   "source": [],
   "metadata": {
    "collapsed": false
   }
  }
 ],
 "metadata": {
  "language_info": {
   "name": "python"
  },
  "kernelspec": {
   "name": "python3",
   "language": "python",
   "display_name": "Python 3 (ipykernel)"
  }
 },
 "nbformat": 4,
 "nbformat_minor": 2
}
