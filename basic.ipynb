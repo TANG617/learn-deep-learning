{
 "cells": [
  {
   "cell_type": "code",
   "execution_count": 15,
   "metadata": {
    "ExecuteTime": {
     "end_time": "2024-03-25T11:22:53.194181Z",
     "start_time": "2024-03-25T11:22:53.176736Z"
    }
   },
   "outputs": [],
   "source": [
    "import matplotlib.pyplot as plt\n",
    "import torch\n",
    "import torch.nn as nn\n",
    "from torch.autograd import Variable\n",
    "from torch.utils.data import DataLoader\n",
    "import pandas as pd\n",
    "import numpy as np\n",
    "\n",
    "from sklearn.model_selection import train_test_split"
   ]
  },
  {
   "cell_type": "code",
   "outputs": [],
   "source": [
    "device = torch.device('mps')"
   ],
   "metadata": {
    "collapsed": false,
    "ExecuteTime": {
     "end_time": "2024-03-25T11:22:53.198590Z",
     "start_time": "2024-03-25T11:22:53.196261Z"
    }
   },
   "execution_count": 16
  },
  {
   "cell_type": "code",
   "outputs": [],
   "source": [
    "train = pd.read_csv(r\"input/train.csv\",dtype=np.float32)\n",
    "target_numpy = train.label.values\n",
    "feature_numpy = train.loc[:, train.columns != 'label'].values/255"
   ],
   "metadata": {
    "collapsed": false,
    "ExecuteTime": {
     "end_time": "2024-03-25T11:22:54.417500Z",
     "start_time": "2024-03-25T11:22:53.199451Z"
    }
   },
   "execution_count": 17
  },
  {
   "cell_type": "code",
   "outputs": [],
   "source": [
    "features_train, features_test, targets_train, targets_test = (\n",
    "    train_test_split(feature_numpy,target_numpy,test_size = 0.2,random_state = 42)) "
   ],
   "metadata": {
    "collapsed": false,
    "ExecuteTime": {
     "end_time": "2024-03-25T11:22:54.584010Z",
     "start_time": "2024-03-25T11:22:54.419165Z"
    }
   },
   "execution_count": 18
  },
  {
   "cell_type": "code",
   "outputs": [],
   "source": [
    "featureTrain = torch.from_numpy(features_train)\n",
    "targetTrain = torch.from_numpy(targets_train).type(torch.LongTensor)"
   ],
   "metadata": {
    "collapsed": false,
    "ExecuteTime": {
     "end_time": "2024-03-25T11:22:54.589321Z",
     "start_time": "2024-03-25T11:22:54.585079Z"
    }
   },
   "execution_count": 19
  },
  {
   "cell_type": "code",
   "outputs": [],
   "source": [
    "featureTest = torch.from_numpy(features_test)\n",
    "targetTest = torch.from_numpy(targets_test).type(torch.LongTensor)"
   ],
   "metadata": {
    "collapsed": false,
    "ExecuteTime": {
     "end_time": "2024-03-25T11:22:54.592898Z",
     "start_time": "2024-03-25T11:22:54.590735Z"
    }
   },
   "execution_count": 20
  },
  {
   "cell_type": "code",
   "outputs": [],
   "source": [
    "batch_size = 100\n",
    "n_iters = 30000\n",
    "n_epochs = int(n_iters * batch_size / len(features_train))"
   ],
   "metadata": {
    "collapsed": false,
    "ExecuteTime": {
     "end_time": "2024-03-25T11:22:54.596046Z",
     "start_time": "2024-03-25T11:22:54.593735Z"
    }
   },
   "execution_count": 21
  },
  {
   "cell_type": "code",
   "outputs": [],
   "source": [
    "train = torch.utils.data.TensorDataset(featureTrain,targetTrain)\n",
    "test = torch.utils.data.TensorDataset(featureTest,targetTest)\n",
    "\n",
    "\n",
    "trainloader = torch.utils.data.DataLoader(train,batch_size=batch_size,shuffle=False)\n",
    "testloader = torch.utils.data.DataLoader(test,batch_size=batch_size,shuffle=False)"
   ],
   "metadata": {
    "collapsed": false,
    "ExecuteTime": {
     "end_time": "2024-03-25T11:22:54.604898Z",
     "start_time": "2024-03-25T11:22:54.597735Z"
    }
   },
   "execution_count": 22
  },
  {
   "cell_type": "code",
   "outputs": [
    {
     "data": {
      "text/plain": "<Figure size 640x480 with 1 Axes>",
      "image/png": "[encoded data removed]"
     },
     "metadata": {},
     "output_type": "display_data"
    }
   ],
   "source": [
    "plt.imshow(feature_numpy[10].reshape(28,28))\n",
    "plt.axis(\"off\")\n",
    "plt.title(str(target_numpy[10]))\n",
    "plt.savefig('graph.png')\n",
    "plt.show()"
   ],
   "metadata": {
    "collapsed": false,
    "ExecuteTime": {
     "end_time": "2024-03-25T11:22:54.670657Z",
     "start_time": "2024-03-25T11:22:54.605827Z"
    }
   },
   "execution_count": 23
  },
  {
   "cell_type": "code",
   "outputs": [],
   "source": [
    "class Net(nn.Module):\n",
    "    def __init__(self,in_dim,out_dim):\n",
    "        super(Net,self).__init__()\n",
    "        hidden_dim = 150\n",
    "# Linear function 1: 784 --> 150\n",
    "        self.fc1 = nn.Linear(in_dim, hidden_dim) \n",
    "        # Non-linearity 1\n",
    "        self.relu1 = nn.ReLU()\n",
    "        \n",
    "        # Linear function 2: 150 --> 150\n",
    "        self.fc2 = nn.Linear(hidden_dim, hidden_dim)\n",
    "        # Non-linearity 2\n",
    "        self.tanh2 = nn.Tanh()\n",
    "        \n",
    "        # Linear function 3: 150 --> 150\n",
    "        self.fc3 = nn.Linear(hidden_dim, hidden_dim)\n",
    "        # Non-linearity 3\n",
    "        self.elu3 = nn.ELU()\n",
    "        \n",
    "        # Linear function 4 (readout): 150 --> 10\n",
    "        self.fc4 = nn.Linear(hidden_dim, out_dim)  \n",
    "        \n",
    "    def forward(self,x):\n",
    "        # Linear function 1\n",
    "        out = self.fc1(x)\n",
    "        # Non-linearity 1\n",
    "        out = self.relu1(out)\n",
    "        \n",
    "        # Linear function 2\n",
    "        out = self.fc2(out)\n",
    "        # Non-linearity 2\n",
    "        out = self.tanh2(out)\n",
    "        \n",
    "        # Linear function 2\n",
    "        out = self.fc3(out)\n",
    "        # Non-linearity 2\n",
    "        out = self.elu3(out)\n",
    "        \n",
    "        # Linear function 4 (readout)\n",
    "        out = self.fc4(out)\n",
    "        return out\n",
    "    "
   ],
   "metadata": {
    "collapsed": false,
    "ExecuteTime": {
     "end_time": "2024-03-25T11:22:54.677285Z",
     "start_time": "2024-03-25T11:22:54.671697Z"
    }
   },
   "execution_count": 24
  },
  {
   "cell_type": "code",
   "outputs": [],
   "source": [
    "# in_dim = 28*28\n",
    "# out_dim = 10\n",
    "# # model2 = Net(in_dim = 28*28,out_dim = 10)\n",
    "# da = torch.from_numpy(feature_numpy[10].reshape(28,28))\n",
    "# model2 = nn.Linear(28*28,10,dtype=torch.uint8)\n",
    "# model2(da)\n",
    "# # model2(torch.from_numpy(feature_numpy[10].reshape(28,28)))"
   ],
   "metadata": {
    "collapsed": false,
    "ExecuteTime": {
     "end_time": "2024-03-25T11:22:54.680737Z",
     "start_time": "2024-03-25T11:22:54.678447Z"
    }
   },
   "execution_count": 25
  },
  {
   "cell_type": "code",
   "outputs": [],
   "source": [
    "in_dim = 28*28\n",
    "out_dim = 10\n",
    "model = Net(in_dim = in_dim,out_dim = out_dim)\n",
    "\n",
    "# model.to(device)\n",
    "loss_func = nn.CrossEntropyLoss()\n",
    "lr = 0.001\n",
    "optimizer = torch.optim.SGD(model.parameters(),lr=lr)"
   ],
   "metadata": {
    "collapsed": false,
    "ExecuteTime": {
     "end_time": "2024-03-25T11:22:54.687263Z",
     "start_time": "2024-03-25T11:22:54.681818Z"
    }
   },
   "execution_count": 26
  },
  {
   "cell_type": "code",
   "outputs": [
    {
     "name": "stdout",
     "output_type": "stream",
     "text": [
      "Iteration: 500  Loss: 2.292884588241577  Accuracy: 15.976190567016602%\n",
      "Iteration: 1000  Loss: 2.276237964630127  Accuracy: 29.940475463867188%\n",
      "Iteration: 1500  Loss: 2.2623560428619385  Accuracy: 46.630950927734375%\n",
      "Iteration: 2000  Loss: 2.23551344871521  Accuracy: 60.261905670166016%\n",
      "Iteration: 2500  Loss: 2.212115526199341  Accuracy: 64.27381134033203%\n",
      "Iteration: 3000  Loss: 2.1800220012664795  Accuracy: 62.57143020629883%\n",
      "Iteration: 3500  Loss: 2.1110188961029053  Accuracy: 59.80952453613281%\n",
      "Iteration: 4000  Loss: 2.0243942737579346  Accuracy: 57.57143020629883%\n",
      "Iteration: 4500  Loss: 2.004286289215088  Accuracy: 56.33333206176758%\n",
      "Iteration: 5000  Loss: 1.8571182489395142  Accuracy: 56.404762268066406%\n",
      "Iteration: 5500  Loss: 1.7356209754943848  Accuracy: 57.92856979370117%\n",
      "Iteration: 6000  Loss: 1.6392855644226074  Accuracy: 61.011905670166016%\n",
      "Iteration: 6500  Loss: 1.3348556756973267  Accuracy: 64.91666412353516%\n",
      "Iteration: 7000  Loss: 1.3066825866699219  Accuracy: 69.13095092773438%\n",
      "Iteration: 7500  Loss: 1.1288236379623413  Accuracy: 72.6547622680664%\n",
      "Iteration: 8000  Loss: 1.0758026838302612  Accuracy: 75.0%\n",
      "Iteration: 8500  Loss: 0.785037636756897  Accuracy: 76.5%\n",
      "Iteration: 9000  Loss: 0.9123439788818359  Accuracy: 78.20237731933594%\n",
      "Iteration: 9500  Loss: 0.6898981332778931  Accuracy: 79.48809814453125%\n",
      "Iteration: 10000  Loss: 0.693981945514679  Accuracy: 80.76190185546875%\n",
      "Iteration: 10500  Loss: 0.6186948418617249  Accuracy: 81.66666412353516%\n",
      "Iteration: 11000  Loss: 0.7003645896911621  Accuracy: 82.14286041259766%\n",
      "Iteration: 11500  Loss: 0.7674380540847778  Accuracy: 82.71428680419922%\n",
      "Iteration: 12000  Loss: 0.5820323824882507  Accuracy: 83.23809814453125%\n",
      "Iteration: 12500  Loss: 0.6390829682350159  Accuracy: 83.82142639160156%\n",
      "Iteration: 13000  Loss: 0.5998155474662781  Accuracy: 84.35713958740234%\n",
      "Iteration: 13500  Loss: 0.5829636454582214  Accuracy: 84.82142639160156%\n",
      "Iteration: 14000  Loss: 0.6719624400138855  Accuracy: 85.16666412353516%\n",
      "Iteration: 14500  Loss: 0.4585796296596527  Accuracy: 85.57142639160156%\n",
      "Iteration: 15000  Loss: 0.47456854581832886  Accuracy: 85.89286041259766%\n",
      "Iteration: 15500  Loss: 0.4370090067386627  Accuracy: 86.08333587646484%\n",
      "Iteration: 16000  Loss: 0.4075995683670044  Accuracy: 86.54762268066406%\n",
      "Iteration: 16500  Loss: 0.5685933828353882  Accuracy: 86.66666412353516%\n",
      "Iteration: 17000  Loss: 0.5499575138092041  Accuracy: 86.95237731933594%\n",
      "Iteration: 17500  Loss: 0.45727503299713135  Accuracy: 87.0952377319336%\n",
      "Iteration: 18000  Loss: 0.4165264368057251  Accuracy: 87.46428680419922%\n",
      "Iteration: 18500  Loss: 0.43300479650497437  Accuracy: 87.55952453613281%\n",
      "Iteration: 19000  Loss: 0.3923529386520386  Accuracy: 87.71428680419922%\n",
      "Iteration: 19500  Loss: 0.4390106499195099  Accuracy: 87.86904907226562%\n",
      "Iteration: 20000  Loss: 0.4036458134651184  Accuracy: 88.10713958740234%\n",
      "Iteration: 20500  Loss: 0.4641553461551666  Accuracy: 88.23809814453125%\n",
      "Iteration: 21000  Loss: 0.4506499469280243  Accuracy: 88.5%\n",
      "Iteration: 21500  Loss: 0.5099269151687622  Accuracy: 88.64286041259766%\n",
      "Iteration: 22000  Loss: 0.5208814144134521  Accuracy: 88.75%\n",
      "Iteration: 22500  Loss: 0.36540156602859497  Accuracy: 88.91666412353516%\n",
      "Iteration: 23000  Loss: 0.3846423029899597  Accuracy: 88.96428680419922%\n",
      "Iteration: 23500  Loss: 0.41445496678352356  Accuracy: 89.10713958740234%\n",
      "Iteration: 24000  Loss: 0.3652918338775635  Accuracy: 89.20237731933594%\n",
      "Iteration: 24500  Loss: 0.42779237031936646  Accuracy: 89.3452377319336%\n",
      "Iteration: 25000  Loss: 0.35345742106437683  Accuracy: 89.32142639160156%\n",
      "Iteration: 25500  Loss: 0.3616678714752197  Accuracy: 89.48809814453125%\n",
      "Iteration: 26000  Loss: 0.25720667839050293  Accuracy: 89.51190185546875%\n",
      "Iteration: 26500  Loss: 0.48741859197616577  Accuracy: 89.69047546386719%\n",
      "Iteration: 27000  Loss: 0.35650309920310974  Accuracy: 89.78571319580078%\n",
      "Iteration: 27500  Loss: 0.30489152669906616  Accuracy: 89.89286041259766%\n",
      "Iteration: 28000  Loss: 0.4185567796230316  Accuracy: 89.91666412353516%\n",
      "Iteration: 28500  Loss: 0.25759926438331604  Accuracy: 89.98809814453125%\n",
      "Iteration: 29000  Loss: 0.31054335832595825  Accuracy: 90.02381134033203%\n",
      "Iteration: 29500  Loss: 0.19452762603759766  Accuracy: 90.03571319580078%\n"
     ]
    }
   ],
   "source": [
    "cnt = 0\n",
    "loss_list = []\n",
    "iter_list = []\n",
    "for epoch in range(n_epochs):\n",
    "    for i,(images,labels) in enumerate(trainloader):\n",
    "        train = Variable(images.view(-1,28*28))\n",
    "        train.to(device)\n",
    "        \n",
    "        \n",
    "        # print(train.shape)\n",
    "        \n",
    "        out = model(train)\n",
    "        labels = Variable(labels)\n",
    "        optimizer.zero_grad()\n",
    "        loss = loss_func(out,labels)\n",
    "        loss.backward()\n",
    "        optimizer.step()\n",
    "        cnt += 1\n",
    "        \n",
    "        if cnt % 50 == 0:\n",
    "            # Calculate Accuracy         \n",
    "            correct = 0\n",
    "            total = 0\n",
    "            # Predict test dataset\n",
    "            for images, labels in testloader: \n",
    "                test = Variable(images.view(-1, 28*28))\n",
    "                \n",
    "                # Forward propagation\n",
    "                outputs = model(test)\n",
    "                \n",
    "                # Get predictions from the maximum value\n",
    "                predicted = torch.max(outputs.data, 1)[1]\n",
    "                \n",
    "                # Total number of labels\n",
    "                total += len(labels)\n",
    "                \n",
    "                # Total correct predictions\n",
    "                correct += (predicted == labels).sum()\n",
    "            \n",
    "            accuracy = 100 * correct / float(total)\n",
    "            \n",
    "            # store loss and iteration\n",
    "            loss_list.append(loss.data)\n",
    "            iter_list.append(cnt)\n",
    "        if cnt % 500 == 0:\n",
    "            # Print Loss\n",
    "            print('Iteration: {}  Loss: {}  Accuracy: {}%'.format(cnt, loss.data, accuracy))"
   ],
   "metadata": {
    "collapsed": false,
    "ExecuteTime": {
     "end_time": "2024-03-25T11:24:33.431403Z",
     "start_time": "2024-03-25T11:22:54.687982Z"
    }
   },
   "execution_count": 27
  },
  {
   "cell_type": "code",
   "outputs": [],
   "source": [
    "torch.save(model.state_dict(), '/Users/timli/Documents/DeepLearning/DeepLearningProjects/learn_torch/model_ann.pth')"
   ],
   "metadata": {
    "collapsed": false,
    "ExecuteTime": {
     "end_time": "2024-03-25T11:26:24.682737Z",
     "start_time": "2024-03-25T11:26:24.672064Z"
    }
   },
   "execution_count": 32
  },
  {
   "cell_type": "code",
   "outputs": [
    {
     "data": {
      "text/plain": "<Figure size 640x480 with 1 Axes>",
      "image/png": "[encoded data removed]"
     },
     "metadata": {},
     "output_type": "display_data"
    }
   ],
   "source": [
    "plt.plot(iter_list,loss_list)\n",
    "plt.xlabel(\"Number of iteration\")\n",
    "plt.ylabel(\"Loss\")\n",
    "plt.title(\"Logistic Regression: Loss vs Number of iteration\")\n",
    "plt.show()\n"
   ],
   "metadata": {
    "collapsed": false,
    "ExecuteTime": {
     "end_time": "2024-03-25T11:24:33.516106Z",
     "start_time": "2024-03-25T11:24:33.433003Z"
    }
   },
   "execution_count": 28
  },
  {
   "cell_type": "code",
   "outputs": [],
   "source": [],
   "metadata": {
    "collapsed": false,
    "ExecuteTime": {
     "end_time": "2024-03-25T11:24:33.523129Z",
     "start_time": "2024-03-25T11:24:33.517594Z"
    }
   },
   "execution_count": 28
  }
 ],
 "metadata": {
  "language_info": {
   "name": "python"
  },
  "kernelspec": {
   "name": "python3",
   "language": "python",
   "display_name": "Python 3 (ipykernel)"
  }
 },
 "nbformat": 4,
 "nbformat_minor": 2
}
