{
 "cells": [
  {
   "cell_type": "code",
   "execution_count": 1,
   "metadata": {
    "ExecuteTime": {
     "end_time": "2024-03-25T10:04:40.095559Z",
     "start_time": "2024-03-25T10:04:38.050711Z"
    }
   },
   "outputs": [],
   "source": [
    "import matplotlib.pyplot as plt\n",
    "import torch\n",
    "import torch.nn as nn\n",
    "from torch.autograd import Variable\n",
    "from torch.utils.data import DataLoader\n",
    "import pandas as pd\n",
    "import numpy as np\n",
    "\n",
    "from sklearn.model_selection import train_test_split"
   ]
  },
  {
   "cell_type": "code",
   "outputs": [],
   "source": [
    "train = pd.read_csv(r\"input/train.csv\",dtype=np.float32)\n",
    "target_numpy = train.label.values\n",
    "feature_numpy = train.loc[:, train.columns != 'label'].values/255"
   ],
   "metadata": {
    "collapsed": false,
    "ExecuteTime": {
     "end_time": "2024-03-25T10:04:41.146687Z",
     "start_time": "2024-03-25T10:04:40.096767Z"
    }
   },
   "execution_count": 2
  },
  {
   "cell_type": "code",
   "outputs": [],
   "source": [
    "features_train, features_test, targets_train, targets_test = (\n",
    "    train_test_split(feature_numpy,target_numpy,test_size = 0.2,random_state = 42)) "
   ],
   "metadata": {
    "collapsed": false,
    "ExecuteTime": {
     "end_time": "2024-03-25T10:04:41.309003Z",
     "start_time": "2024-03-25T10:04:41.148291Z"
    }
   },
   "execution_count": 3
  },
  {
   "cell_type": "code",
   "outputs": [],
   "source": [
    "featureTrain = torch.from_numpy(features_train)\n",
    "targetTrain = torch.from_numpy(targets_train).type(torch.LongTensor)"
   ],
   "metadata": {
    "collapsed": false,
    "ExecuteTime": {
     "end_time": "2024-03-25T10:04:41.312917Z",
     "start_time": "2024-03-25T10:04:41.309932Z"
    }
   },
   "execution_count": 4
  },
  {
   "cell_type": "code",
   "outputs": [],
   "source": [
    "featureTest = torch.from_numpy(features_test)\n",
    "targetTest = torch.from_numpy(targets_test).type(torch.LongTensor)"
   ],
   "metadata": {
    "collapsed": false,
    "ExecuteTime": {
     "end_time": "2024-03-25T10:04:41.317064Z",
     "start_time": "2024-03-25T10:04:41.315074Z"
    }
   },
   "execution_count": 5
  },
  {
   "cell_type": "code",
   "outputs": [],
   "source": [
    "batch_size = 100\n",
    "n_iters = 100000\n",
    "n_epochs = int(n_iters * batch_size / len(features_train))"
   ],
   "metadata": {
    "collapsed": false,
    "ExecuteTime": {
     "end_time": "2024-03-25T10:09:52.427978Z",
     "start_time": "2024-03-25T10:09:52.425271Z"
    }
   },
   "execution_count": 23
  },
  {
   "cell_type": "code",
   "outputs": [],
   "source": [
    "train = torch.utils.data.TensorDataset(featureTrain,targetTrain)\n",
    "test = torch.utils.data.TensorDataset(featureTest,targetTest)\n",
    "\n",
    "trainloader = torch.utils.data.DataLoader(train,batch_size=batch_size,shuffle=False)\n",
    "testloader = torch.utils.data.DataLoader(test,batch_size=batch_size,shuffle=False)"
   ],
   "metadata": {
    "collapsed": false,
    "ExecuteTime": {
     "end_time": "2024-03-25T10:04:41.322951Z",
     "start_time": "2024-03-25T10:04:41.320486Z"
    }
   },
   "execution_count": 7
  },
  {
   "cell_type": "code",
   "outputs": [
    {
     "data": {
      "text/plain": "<Figure size 640x480 with 1 Axes>",
      "image/png": "[encoded data removed]"
     },
     "metadata": {},
     "output_type": "display_data"
    }
   ],
   "source": [
    "plt.imshow(feature_numpy[10].reshape(28,28))\n",
    "plt.axis(\"off\")\n",
    "plt.title(str(target_numpy[10]))\n",
    "plt.savefig('graph.png')\n",
    "plt.show()"
   ],
   "metadata": {
    "collapsed": false,
    "ExecuteTime": {
     "end_time": "2024-03-25T10:04:41.482171Z",
     "start_time": "2024-03-25T10:04:41.323930Z"
    }
   },
   "execution_count": 8
  },
  {
   "cell_type": "code",
   "outputs": [],
   "source": [
    "class Net(nn.Module):\n",
    "    def __init__(self,in_dim,out_dim):\n",
    "        super(Net,self).__init__()\n",
    "        self.linear = nn.Linear(in_dim,out_dim)\n",
    "        \n",
    "    def forward(self,x):\n",
    "        out = self.linear(x)\n",
    "        return out\n",
    "    "
   ],
   "metadata": {
    "collapsed": false,
    "ExecuteTime": {
     "end_time": "2024-03-25T10:04:41.486630Z",
     "start_time": "2024-03-25T10:04:41.483671Z"
    }
   },
   "execution_count": 9
  },
  {
   "cell_type": "code",
   "outputs": [],
   "source": [
    "# in_dim = 28*28\n",
    "# out_dim = 10\n",
    "# # model2 = Net(in_dim = 28*28,out_dim = 10)\n",
    "# da = torch.from_numpy(feature_numpy[10].reshape(28,28))\n",
    "# model2 = nn.Linear(28*28,10,dtype=torch.uint8)\n",
    "# model2(da)\n",
    "# # model2(torch.from_numpy(feature_numpy[10].reshape(28,28)))"
   ],
   "metadata": {
    "collapsed": false,
    "ExecuteTime": {
     "end_time": "2024-03-25T10:04:41.489444Z",
     "start_time": "2024-03-25T10:04:41.487761Z"
    }
   },
   "execution_count": 10
  },
  {
   "cell_type": "code",
   "outputs": [],
   "source": [
    "in_dim = 28*28\n",
    "out_dim = 10\n",
    "model = Net(in_dim = in_dim,out_dim = out_dim)\n",
    "loss_func = nn.CrossEntropyLoss()\n",
    "lr = 0.0001\n",
    "optimizer = torch.optim.SGD(model.parameters(),lr=lr)"
   ],
   "metadata": {
    "collapsed": false,
    "ExecuteTime": {
     "end_time": "2024-03-25T10:09:57.883245Z",
     "start_time": "2024-03-25T10:09:57.879333Z"
    }
   },
   "execution_count": 24
  },
  {
   "cell_type": "code",
   "outputs": [
    {
     "name": "stdout",
     "output_type": "stream",
     "text": [
      "Iteration: 500  Loss: 2.2559800148010254  Accuracy: 17.285715103149414%\n",
      "Iteration: 1000  Loss: 2.226027727127075  Accuracy: 27.14285659790039%\n",
      "Iteration: 1500  Loss: 2.1531460285186768  Accuracy: 36.35714340209961%\n",
      "Iteration: 2000  Loss: 2.1273915767669678  Accuracy: 43.095237731933594%\n",
      "Iteration: 2500  Loss: 2.0394434928894043  Accuracy: 49.904762268066406%\n",
      "Iteration: 3000  Loss: 2.036301612854004  Accuracy: 55.154762268066406%\n",
      "Iteration: 3500  Loss: 1.9759310483932495  Accuracy: 59.904762268066406%\n",
      "Iteration: 4000  Loss: 1.9302140474319458  Accuracy: 62.9523811340332%\n",
      "Iteration: 4500  Loss: 1.9722126722335815  Accuracy: 65.63095092773438%\n",
      "Iteration: 5000  Loss: 1.8571085929870605  Accuracy: 67.58333587646484%\n",
      "Iteration: 5500  Loss: 1.8459378480911255  Accuracy: 69.11904907226562%\n",
      "Iteration: 6000  Loss: 1.8244858980178833  Accuracy: 70.3452377319336%\n",
      "Iteration: 6500  Loss: 1.737288475036621  Accuracy: 71.38095092773438%\n",
      "Iteration: 7000  Loss: 1.7410812377929688  Accuracy: 72.32142639160156%\n",
      "Iteration: 7500  Loss: 1.6964775323867798  Accuracy: 73.0952377319336%\n",
      "Iteration: 8000  Loss: 1.6727626323699951  Accuracy: 73.83333587646484%\n",
      "Iteration: 8500  Loss: 1.5757637023925781  Accuracy: 74.36904907226562%\n",
      "Iteration: 9000  Loss: 1.6665732860565186  Accuracy: 75.0%\n",
      "Iteration: 9500  Loss: 1.5100892782211304  Accuracy: 75.41666412353516%\n",
      "Iteration: 10000  Loss: 1.5358376502990723  Accuracy: 75.76190185546875%\n",
      "Iteration: 10500  Loss: 1.5202507972717285  Accuracy: 76.04762268066406%\n",
      "Iteration: 11000  Loss: 1.5210551023483276  Accuracy: 76.52381134033203%\n",
      "Iteration: 11500  Loss: 1.5119274854660034  Accuracy: 76.71428680419922%\n",
      "Iteration: 12000  Loss: 1.4412853717803955  Accuracy: 76.91666412353516%\n",
      "Iteration: 12500  Loss: 1.449049472808838  Accuracy: 77.28571319580078%\n",
      "Iteration: 13000  Loss: 1.4656792879104614  Accuracy: 77.58333587646484%\n",
      "Iteration: 13500  Loss: 1.3724496364593506  Accuracy: 77.89286041259766%\n",
      "Iteration: 14000  Loss: 1.4171699285507202  Accuracy: 78.04762268066406%\n",
      "Iteration: 14500  Loss: 1.360487937927246  Accuracy: 78.20237731933594%\n",
      "Iteration: 15000  Loss: 1.3706119060516357  Accuracy: 78.30952453613281%\n",
      "Iteration: 15500  Loss: 1.329985499382019  Accuracy: 78.52381134033203%\n",
      "Iteration: 16000  Loss: 1.2751195430755615  Accuracy: 78.70237731933594%\n",
      "Iteration: 16500  Loss: 1.3582459688186646  Accuracy: 78.85713958740234%\n",
      "Iteration: 17000  Loss: 1.3024916648864746  Accuracy: 79.08333587646484%\n",
      "Iteration: 17500  Loss: 1.2802737951278687  Accuracy: 79.33333587646484%\n",
      "Iteration: 18000  Loss: 1.1855875253677368  Accuracy: 79.46428680419922%\n",
      "Iteration: 18500  Loss: 1.1905189752578735  Accuracy: 79.61904907226562%\n",
      "Iteration: 19000  Loss: 1.226913571357727  Accuracy: 79.79762268066406%\n",
      "Iteration: 19500  Loss: 1.1911077499389648  Accuracy: 79.88095092773438%\n",
      "Iteration: 20000  Loss: 1.250152826309204  Accuracy: 80.11904907226562%\n",
      "Iteration: 20500  Loss: 1.2495108842849731  Accuracy: 80.20237731933594%\n",
      "Iteration: 21000  Loss: 1.1938526630401611  Accuracy: 80.33333587646484%\n",
      "Iteration: 21500  Loss: 1.2562155723571777  Accuracy: 80.41666412353516%\n",
      "Iteration: 22000  Loss: 1.20254647731781  Accuracy: 80.46428680419922%\n",
      "Iteration: 22500  Loss: 1.1870251893997192  Accuracy: 80.61904907226562%\n",
      "Iteration: 23000  Loss: 1.1829555034637451  Accuracy: 80.76190185546875%\n",
      "Iteration: 23500  Loss: 1.072037696838379  Accuracy: 80.91666412353516%\n",
      "Iteration: 24000  Loss: 1.0879833698272705  Accuracy: 80.95237731933594%\n",
      "Iteration: 24500  Loss: 1.069878339767456  Accuracy: 81.01190185546875%\n",
      "Iteration: 25000  Loss: 1.052261471748352  Accuracy: 81.08333587646484%\n",
      "Iteration: 25500  Loss: 0.9837318658828735  Accuracy: 81.17857360839844%\n",
      "Iteration: 26000  Loss: 0.9900918006896973  Accuracy: 81.20237731933594%\n",
      "Iteration: 26500  Loss: 1.1412224769592285  Accuracy: 81.27381134033203%\n",
      "Iteration: 27000  Loss: 1.0673781633377075  Accuracy: 81.33333587646484%\n",
      "Iteration: 27500  Loss: 0.9642508029937744  Accuracy: 81.46428680419922%\n",
      "Iteration: 28000  Loss: 1.0393046140670776  Accuracy: 81.52381134033203%\n",
      "Iteration: 28500  Loss: 1.0539679527282715  Accuracy: 81.5952377319336%\n",
      "Iteration: 29000  Loss: 1.021094799041748  Accuracy: 81.64286041259766%\n",
      "Iteration: 29500  Loss: 0.9843196272850037  Accuracy: 81.76190185546875%\n",
      "Iteration: 30000  Loss: 0.944892942905426  Accuracy: 81.85713958740234%\n",
      "Iteration: 30500  Loss: 1.0194209814071655  Accuracy: 81.86904907226562%\n",
      "Iteration: 31000  Loss: 0.9671446084976196  Accuracy: 81.96428680419922%\n",
      "Iteration: 31500  Loss: 0.9078320264816284  Accuracy: 82.04762268066406%\n",
      "Iteration: 32000  Loss: 1.036275029182434  Accuracy: 82.17857360839844%\n",
      "Iteration: 32500  Loss: 1.0139801502227783  Accuracy: 82.22618865966797%\n",
      "Iteration: 33000  Loss: 0.9687635898590088  Accuracy: 82.30952453613281%\n",
      "Iteration: 33500  Loss: 0.987192690372467  Accuracy: 82.39286041259766%\n",
      "Iteration: 34000  Loss: 1.0149084329605103  Accuracy: 82.5%\n",
      "Iteration: 34500  Loss: 0.9511215090751648  Accuracy: 82.51190185546875%\n",
      "Iteration: 35000  Loss: 0.991331934928894  Accuracy: 82.57142639160156%\n",
      "Iteration: 35500  Loss: 0.8492885828018188  Accuracy: 82.64286041259766%\n",
      "Iteration: 36000  Loss: 0.9738128185272217  Accuracy: 82.70237731933594%\n",
      "Iteration: 36500  Loss: 0.8716651797294617  Accuracy: 82.79762268066406%\n",
      "Iteration: 37000  Loss: 0.9610674381256104  Accuracy: 82.83333587646484%\n",
      "Iteration: 37500  Loss: 0.9020199775695801  Accuracy: 82.89286041259766%\n",
      "Iteration: 38000  Loss: 0.8718001842498779  Accuracy: 82.91666412353516%\n",
      "Iteration: 38500  Loss: 0.8611881732940674  Accuracy: 82.91666412353516%\n",
      "Iteration: 39000  Loss: 0.8379057049751282  Accuracy: 83.01190185546875%\n",
      "Iteration: 39500  Loss: 0.9081082344055176  Accuracy: 83.10713958740234%\n",
      "Iteration: 40000  Loss: 0.9231860637664795  Accuracy: 83.13095092773438%\n",
      "Iteration: 40500  Loss: 0.8338794112205505  Accuracy: 83.13095092773438%\n",
      "Iteration: 41000  Loss: 0.8951060771942139  Accuracy: 83.13095092773438%\n",
      "Iteration: 41500  Loss: 0.7641753554344177  Accuracy: 83.1547622680664%\n",
      "Iteration: 42000  Loss: 0.784079909324646  Accuracy: 83.17857360839844%\n",
      "Iteration: 42500  Loss: 0.8136773705482483  Accuracy: 83.19047546386719%\n",
      "Iteration: 43000  Loss: 0.9141466021537781  Accuracy: 83.22618865966797%\n",
      "Iteration: 43500  Loss: 0.7754905819892883  Accuracy: 83.27381134033203%\n",
      "Iteration: 44000  Loss: 0.8638309240341187  Accuracy: 83.33333587646484%\n",
      "Iteration: 44500  Loss: 0.7779490947723389  Accuracy: 83.36904907226562%\n",
      "Iteration: 45000  Loss: 0.7425679564476013  Accuracy: 83.44047546386719%\n",
      "Iteration: 45500  Loss: 0.8065398931503296  Accuracy: 83.45237731933594%\n",
      "Iteration: 46000  Loss: 0.7016933560371399  Accuracy: 83.51190185546875%\n",
      "Iteration: 46500  Loss: 0.9677706956863403  Accuracy: 83.53571319580078%\n",
      "Iteration: 47000  Loss: 0.8186618685722351  Accuracy: 83.55952453613281%\n",
      "Iteration: 47500  Loss: 0.8088329434394836  Accuracy: 83.64286041259766%\n",
      "Iteration: 48000  Loss: 0.9316810369491577  Accuracy: 83.66666412353516%\n",
      "Iteration: 48500  Loss: 0.7565090656280518  Accuracy: 83.70237731933594%\n",
      "Iteration: 49000  Loss: 0.8199596405029297  Accuracy: 83.71428680419922%\n",
      "Iteration: 49500  Loss: 0.7665016055107117  Accuracy: 83.75%\n",
      "Iteration: 50000  Loss: 0.8630131483078003  Accuracy: 83.76190185546875%\n",
      "Iteration: 50500  Loss: 0.6891138553619385  Accuracy: 83.82142639160156%\n",
      "Iteration: 51000  Loss: 0.8296614289283752  Accuracy: 83.83333587646484%\n",
      "Iteration: 51500  Loss: 0.6809553503990173  Accuracy: 83.89286041259766%\n",
      "Iteration: 52000  Loss: 0.7163260579109192  Accuracy: 83.89286041259766%\n",
      "Iteration: 52500  Loss: 0.7281860113143921  Accuracy: 83.92857360839844%\n",
      "Iteration: 53000  Loss: 0.8027389645576477  Accuracy: 83.94047546386719%\n",
      "Iteration: 53500  Loss: 0.855745255947113  Accuracy: 83.97618865966797%\n",
      "Iteration: 54000  Loss: 0.7326731085777283  Accuracy: 83.98809814453125%\n",
      "Iteration: 54500  Loss: 0.7918957471847534  Accuracy: 84.04762268066406%\n",
      "Iteration: 55000  Loss: 0.8393104076385498  Accuracy: 84.07142639160156%\n",
      "Iteration: 55500  Loss: 0.7351431250572205  Accuracy: 84.13095092773438%\n",
      "Iteration: 56000  Loss: 0.8280631899833679  Accuracy: 84.19047546386719%\n",
      "Iteration: 56500  Loss: 0.7327028512954712  Accuracy: 84.20237731933594%\n",
      "Iteration: 57000  Loss: 0.7476689219474792  Accuracy: 84.21428680419922%\n",
      "Iteration: 57500  Loss: 0.733081042766571  Accuracy: 84.22618865966797%\n",
      "Iteration: 58000  Loss: 0.6797735691070557  Accuracy: 84.28571319580078%\n",
      "Iteration: 58500  Loss: 0.7832679152488708  Accuracy: 84.33333587646484%\n",
      "Iteration: 59000  Loss: 0.7769290208816528  Accuracy: 84.30952453613281%\n",
      "Iteration: 59500  Loss: 0.7487400770187378  Accuracy: 84.30952453613281%\n",
      "Iteration: 60000  Loss: 0.7067973613739014  Accuracy: 84.28571319580078%\n",
      "Iteration: 60500  Loss: 0.7239769101142883  Accuracy: 84.26190185546875%\n",
      "Iteration: 61000  Loss: 0.7565021514892578  Accuracy: 84.25%\n",
      "Iteration: 61500  Loss: 0.7331717014312744  Accuracy: 84.26190185546875%\n",
      "Iteration: 62000  Loss: 0.8181618452072144  Accuracy: 84.23809814453125%\n",
      "Iteration: 62500  Loss: 0.818591296672821  Accuracy: 84.27381134033203%\n",
      "Iteration: 63000  Loss: 0.7942227125167847  Accuracy: 84.33333587646484%\n",
      "Iteration: 63500  Loss: 0.8220290541648865  Accuracy: 84.33333587646484%\n",
      "Iteration: 64000  Loss: 0.8403146862983704  Accuracy: 84.39286041259766%\n",
      "Iteration: 64500  Loss: 0.786348819732666  Accuracy: 84.4047622680664%\n",
      "Iteration: 65000  Loss: 0.7633267045021057  Accuracy: 84.42857360839844%\n",
      "Iteration: 65500  Loss: 0.688107430934906  Accuracy: 84.45237731933594%\n",
      "Iteration: 66000  Loss: 0.6852103471755981  Accuracy: 84.51190185546875%\n",
      "Iteration: 66500  Loss: 0.7007094621658325  Accuracy: 84.51190185546875%\n",
      "Iteration: 67000  Loss: 0.6944261789321899  Accuracy: 84.54762268066406%\n",
      "Iteration: 67500  Loss: 0.6007390022277832  Accuracy: 84.55952453613281%\n",
      "Iteration: 68000  Loss: 0.6095385551452637  Accuracy: 84.5952377319336%\n",
      "Iteration: 68500  Loss: 0.8027003407478333  Accuracy: 84.60713958740234%\n",
      "Iteration: 69000  Loss: 0.7125260829925537  Accuracy: 84.60713958740234%\n",
      "Iteration: 69500  Loss: 0.6625754833221436  Accuracy: 84.61904907226562%\n",
      "Iteration: 70000  Loss: 0.7328181266784668  Accuracy: 84.64286041259766%\n",
      "Iteration: 70500  Loss: 0.6967195868492126  Accuracy: 84.67857360839844%\n",
      "Iteration: 71000  Loss: 0.7005884647369385  Accuracy: 84.67857360839844%\n",
      "Iteration: 71500  Loss: 0.6364952921867371  Accuracy: 84.73809814453125%\n",
      "Iteration: 72000  Loss: 0.6107982397079468  Accuracy: 84.76190185546875%\n",
      "Iteration: 72500  Loss: 0.7333946228027344  Accuracy: 84.79762268066406%\n",
      "Iteration: 73000  Loss: 0.7077388763427734  Accuracy: 84.80952453613281%\n",
      "Iteration: 73500  Loss: 0.6162326335906982  Accuracy: 84.8452377319336%\n",
      "Iteration: 74000  Loss: 0.7497761249542236  Accuracy: 84.8452377319336%\n",
      "Iteration: 74500  Loss: 0.7496719360351562  Accuracy: 84.92857360839844%\n",
      "Iteration: 75000  Loss: 0.7058799266815186  Accuracy: 84.91666412353516%\n",
      "Iteration: 75500  Loss: 0.7452250719070435  Accuracy: 84.92857360839844%\n",
      "Iteration: 76000  Loss: 0.7648538947105408  Accuracy: 84.98809814453125%\n",
      "Iteration: 76500  Loss: 0.6871296763420105  Accuracy: 85.01190185546875%\n",
      "Iteration: 77000  Loss: 0.7411242127418518  Accuracy: 85.03571319580078%\n",
      "Iteration: 77500  Loss: 0.5735295414924622  Accuracy: 85.05952453613281%\n",
      "Iteration: 78000  Loss: 0.7203503251075745  Accuracy: 85.07142639160156%\n",
      "Iteration: 78500  Loss: 0.6298553347587585  Accuracy: 85.0952377319336%\n",
      "Iteration: 79000  Loss: 0.727689266204834  Accuracy: 85.11904907226562%\n",
      "Iteration: 79500  Loss: 0.6913456916809082  Accuracy: 85.13095092773438%\n",
      "Iteration: 80000  Loss: 0.6309759616851807  Accuracy: 85.16666412353516%\n",
      "Iteration: 80500  Loss: 0.6411822438240051  Accuracy: 85.20237731933594%\n",
      "Iteration: 81000  Loss: 0.5927746295928955  Accuracy: 85.22618865966797%\n",
      "Iteration: 81500  Loss: 0.6750560998916626  Accuracy: 85.22618865966797%\n",
      "Iteration: 82000  Loss: 0.7220725417137146  Accuracy: 85.22618865966797%\n",
      "Iteration: 82500  Loss: 0.6119422316551208  Accuracy: 85.26190185546875%\n",
      "Iteration: 83000  Loss: 0.6899229288101196  Accuracy: 85.28571319580078%\n",
      "Iteration: 83500  Loss: 0.5378888249397278  Accuracy: 85.29762268066406%\n",
      "Iteration: 84000  Loss: 0.5638819336891174  Accuracy: 85.3452377319336%\n",
      "Iteration: 84500  Loss: 0.6145933270454407  Accuracy: 85.3452377319336%\n",
      "Iteration: 85000  Loss: 0.7090840935707092  Accuracy: 85.35713958740234%\n",
      "Iteration: 85500  Loss: 0.5565892457962036  Accuracy: 85.36904907226562%\n",
      "Iteration: 86000  Loss: 0.6610782146453857  Accuracy: 85.36904907226562%\n",
      "Iteration: 86500  Loss: 0.5884717702865601  Accuracy: 85.4047622680664%\n",
      "Iteration: 87000  Loss: 0.5073590874671936  Accuracy: 85.41666412353516%\n",
      "Iteration: 87500  Loss: 0.6222261190414429  Accuracy: 85.44047546386719%\n",
      "Iteration: 88000  Loss: 0.4931916892528534  Accuracy: 85.45237731933594%\n",
      "Iteration: 88500  Loss: 0.7965657711029053  Accuracy: 85.44047546386719%\n",
      "Iteration: 89000  Loss: 0.6287728548049927  Accuracy: 85.45237731933594%\n",
      "Iteration: 89500  Loss: 0.6182026863098145  Accuracy: 85.47618865966797%\n",
      "Iteration: 90000  Loss: 0.7595571279525757  Accuracy: 85.47618865966797%\n",
      "Iteration: 90500  Loss: 0.567945659160614  Accuracy: 85.48809814453125%\n",
      "Iteration: 91000  Loss: 0.639136552810669  Accuracy: 85.52381134033203%\n",
      "Iteration: 91500  Loss: 0.5840577483177185  Accuracy: 85.51190185546875%\n",
      "Iteration: 92000  Loss: 0.7011675238609314  Accuracy: 85.55952453613281%\n",
      "Iteration: 92500  Loss: 0.5277580618858337  Accuracy: 85.58333587646484%\n",
      "Iteration: 93000  Loss: 0.6453566551208496  Accuracy: 85.60713958740234%\n",
      "Iteration: 93500  Loss: 0.5250795483589172  Accuracy: 85.61904907226562%\n",
      "Iteration: 94000  Loss: 0.5446417331695557  Accuracy: 85.61904907226562%\n",
      "Iteration: 94500  Loss: 0.5546985864639282  Accuracy: 85.6547622680664%\n",
      "Iteration: 95000  Loss: 0.6348860263824463  Accuracy: 85.6547622680664%\n",
      "Iteration: 95500  Loss: 0.7080111503601074  Accuracy: 85.66666412353516%\n",
      "Iteration: 96000  Loss: 0.5765400528907776  Accuracy: 85.67857360839844%\n",
      "Iteration: 96500  Loss: 0.6444220542907715  Accuracy: 85.70237731933594%\n",
      "Iteration: 97000  Loss: 0.6881210803985596  Accuracy: 85.72618865966797%\n",
      "Iteration: 97500  Loss: 0.5937537550926208  Accuracy: 85.75%\n",
      "Iteration: 98000  Loss: 0.6956536769866943  Accuracy: 85.73809814453125%\n",
      "Iteration: 98500  Loss: 0.5709819793701172  Accuracy: 85.75%\n",
      "Iteration: 99000  Loss: 0.5957465171813965  Accuracy: 85.75%\n",
      "Iteration: 99500  Loss: 0.5826712250709534  Accuracy: 85.76190185546875%\n"
     ]
    }
   ],
   "source": [
    "cnt = 0\n",
    "loss_list = []\n",
    "iter_list = []\n",
    "for epoch in range(n_epochs):\n",
    "    for i,(images,labels) in enumerate(trainloader):\n",
    "        train = Variable(images.view(-1,28*28))\n",
    "        \n",
    "        \n",
    "        # print(train.shape)\n",
    "        \n",
    "        \n",
    "        labels = Variable(labels)\n",
    "        optimizer.zero_grad()\n",
    "        out = model(train)\n",
    "        loss = loss_func(out,labels)\n",
    "        loss.backward()\n",
    "        optimizer.step()\n",
    "        cnt += 1\n",
    "        \n",
    "        if cnt % 50 == 0:\n",
    "            # Calculate Accuracy         \n",
    "            correct = 0\n",
    "            total = 0\n",
    "            # Predict test dataset\n",
    "            for images, labels in testloader: \n",
    "                test = Variable(images.view(-1, 28*28))\n",
    "                \n",
    "                # Forward propagation\n",
    "                outputs = model(test)\n",
    "                \n",
    "                # Get predictions from the maximum value\n",
    "                predicted = torch.max(outputs.data, 1)[1]\n",
    "                \n",
    "                # Total number of labels\n",
    "                total += len(labels)\n",
    "                \n",
    "                # Total correct predictions\n",
    "                correct += (predicted == labels).sum()\n",
    "            \n",
    "            accuracy = 100 * correct / float(total)\n",
    "            \n",
    "            # store loss and iteration\n",
    "            loss_list.append(loss.data)\n",
    "            iter_list.append(cnt)\n",
    "        if cnt % 500 == 0:\n",
    "            # Print Loss\n",
    "            print('Iteration: {}  Loss: {}  Accuracy: {}%'.format(cnt, loss.data, accuracy))"
   ],
   "metadata": {
    "collapsed": false,
    "ExecuteTime": {
     "end_time": "2024-03-25T10:12:04.427180Z",
     "start_time": "2024-03-25T10:09:58.787838Z"
    }
   },
   "execution_count": 25
  },
  {
   "cell_type": "code",
   "outputs": [
    {
     "data": {
      "text/plain": "<Figure size 640x480 with 1 Axes>",
      "image/png": "[encoded data removed]"
     },
     "metadata": {},
     "output_type": "display_data"
    }
   ],
   "source": [
    "plt.plot(iter_list,loss_list)\n",
    "plt.xlabel(\"Number of iteration\")\n",
    "plt.ylabel(\"Loss\")\n",
    "plt.title(\"Logistic Regression: Loss vs Number of iteration\")\n",
    "plt.show()"
   ],
   "metadata": {
    "collapsed": false,
    "ExecuteTime": {
     "end_time": "2024-03-25T10:12:07.582660Z",
     "start_time": "2024-03-25T10:12:07.495004Z"
    }
   },
   "execution_count": 26
  },
  {
   "cell_type": "code",
   "outputs": [],
   "source": [],
   "metadata": {
    "collapsed": false
   }
  }
 ],
 "metadata": {
  "language_info": {
   "name": "python"
  },
  "kernelspec": {
   "name": "python3",
   "language": "python",
   "display_name": "Python 3 (ipykernel)"
  }
 },
 "nbformat": 4,
 "nbformat_minor": 2
}
