{
 "cells": [
  {
   "cell_type": "code",
   "execution_count": 15,
   "metadata": {
    "ExecuteTime": {
     "end_time": "2024-03-25T11:22:53.194181Z",
     "start_time": "2024-03-25T11:22:53.176736Z"
    }
   },
   "outputs": [],
   "source": [
    "import matplotlib.pyplot as plt\n",
    "import torch\n",
    "import torch.nn as nn\n",
    "from torch.autograd import Variable\n",
    "from torch.utils.data import DataLoader\n",
    "import pandas as pd\n",
    "import numpy as np\n",
    "\n",
    "from sklearn.model_selection import train_test_split"
   ]
  },
  {
   "cell_type": "code",
   "outputs": [],
   "source": [
    "device = torch.device('mps')"
   ],
   "metadata": {
    "collapsed": false,
    "ExecuteTime": {
     "end_time": "2024-03-25T11:22:53.198590Z",
     "start_time": "2024-03-25T11:22:53.196261Z"
    }
   },
   "execution_count": 16
  },
  {
   "cell_type": "code",
   "outputs": [],
   "source": [
    "train = pd.read_csv(r\"input/train.csv\",dtype=np.float32)\n",
    "target_numpy = train.label.values\n",
    "feature_numpy = train.loc[:, train.columns != 'label'].values/255"
   ],
   "metadata": {
    "collapsed": false,
    "ExecuteTime": {
     "end_time": "2024-03-25T11:22:54.417500Z",
     "start_time": "2024-03-25T11:22:53.199451Z"
    }
   },
   "execution_count": 17
  },
  {
   "cell_type": "code",
   "outputs": [],
   "source": [
    "features_train, features_test, targets_train, targets_test = (\n",
    "    train_test_split(feature_numpy,target_numpy,test_size = 0.2,random_state = 42)) "
   ],
   "metadata": {
    "collapsed": false,
    "ExecuteTime": {
     "end_time": "2024-03-25T11:22:54.584010Z",
     "start_time": "2024-03-25T11:22:54.419165Z"
    }
   },
   "execution_count": 18
  },
  {
   "cell_type": "code",
   "outputs": [],
   "source": [
    "featureTrain = torch.from_numpy(features_train)\n",
    "targetTrain = torch.from_numpy(targets_train).type(torch.LongTensor)"
   ],
   "metadata": {
    "collapsed": false,
    "ExecuteTime": {
     "end_time": "2024-03-25T11:22:54.589321Z",
     "start_time": "2024-03-25T11:22:54.585079Z"
    }
   },
   "execution_count": 19
  },
  {
   "cell_type": "code",
   "outputs": [],
   "source": [
    "featureTest = torch.from_numpy(features_test)\n",
    "targetTest = torch.from_numpy(targets_test).type(torch.LongTensor)"
   ],
   "metadata": {
    "collapsed": false,
    "ExecuteTime": {
     "end_time": "2024-03-25T11:22:54.592898Z",
     "start_time": "2024-03-25T11:22:54.590735Z"
    }
   },
   "execution_count": 20
  },
  {
   "cell_type": "code",
   "outputs": [],
   "source": [
    "batch_size = 100\n",
    "n_iters = 30000\n",
    "n_epochs = int(n_iters * batch_size / len(features_train))"
   ],
   "metadata": {
    "collapsed": false,
    "ExecuteTime": {
     "end_time": "2024-03-25T11:22:54.596046Z",
     "start_time": "2024-03-25T11:22:54.593735Z"
    }
   },
   "execution_count": 21
  },
  {
   "cell_type": "code",
   "outputs": [],
   "source": [
    "train = torch.utils.data.TensorDataset(featureTrain,targetTrain)\n",
    "test = torch.utils.data.TensorDataset(featureTest,targetTest)\n",
    "\n",
    "\n",
    "trainloader = torch.utils.data.DataLoader(train,batch_size=batch_size,shuffle=False)\n",
    "testloader = torch.utils.data.DataLoader(test,batch_size=batch_size,shuffle=False)"
   ],
   "metadata": {
    "collapsed": false,
    "ExecuteTime": {
     "end_time": "2024-03-25T11:22:54.604898Z",
     "start_time": "2024-03-25T11:22:54.597735Z"
    }
   },
   "execution_count": 22
  },
  {
   "cell_type": "code",
   "outputs": [
    {
     "data": {
      "text/plain": "<Figure size 640x480 with 1 Axes>",
      "image/png": "[encoded data removed]"
     },
     "metadata": {},
     "output_type": "display_data"
    }
   ],
   "source": [
    "plt.imshow(feature_numpy[10].reshape(28,28))\n",
    "plt.axis(\"off\")\n",
    "plt.title(str(target_numpy[10]))\n",
    "plt.savefig('graph.png')\n",
    "plt.show()"
   ],
   "metadata": {
    "collapsed": false,
    "ExecuteTime": {
     "end_time": "2024-03-25T11:22:54.670657Z",
     "start_time": "2024-03-25T11:22:54.605827Z"
    }
   },
   "execution_count": 23
  },
  {
   "cell_type": "code",
   "outputs": [],
   "source": [
    "class Net(nn.Module):\n",
    "    def __init__(self,in_dim,out_dim):\n",
    "        super(Net,self).__init__()\n",
    "        hidden_dim = 150\n",
    "# Linear function 1: 784 --> 150\n",
    "        self.fc1 = nn.Linear(in_dim, hidden_dim) \n",
    "        # Non-linearity 1\n",
    "        self.relu1 = nn.ReLU()\n",
    "        \n",
    "        # Linear function 2: 150 --> 150\n",
    "        self.fc2 = nn.Linear(hidden_dim, hidden_dim)\n",
    "        # Non-linearity 2\n",
    "        self.tanh2 = nn.Tanh()\n",
    "        \n",
    "        # Linear function 3: 150 --> 150\n",
    "        self.fc3 = nn.Linear(hidden_dim, hidden_dim)\n",
    "        # Non-linearity 3\n",
    "        self.elu3 = nn.ELU()\n",
    "        \n",
    "        # Linear function 4 (readout): 150 --> 10\n",
    "        self.fc4 = nn.Linear(hidden_dim, out_dim)  \n",
    "        \n",
    "    def forward(self,x):\n",
    "        # Linear function 1\n",
    "        out = self.fc1(x)\n",
    "        # Non-linearity 1\n",
    "        out = self.relu1(out)\n",
    "        \n",
    "        # Linear function 2\n",
    "        out = self.fc2(out)\n",
    "        # Non-linearity 2\n",
    "        out = self.tanh2(out)\n",
    "        \n",
    "        # Linear function 2\n",
    "        out = self.fc3(out)\n",
    "        # Non-linearity 2\n",
    "        out = self.elu3(out)\n",
    "        \n",
    "        # Linear function 4 (readout)\n",
    "        out = self.fc4(out)\n",
    "        return out\n",
    "    "
   ],
   "metadata": {
    "collapsed": false,
    "ExecuteTime": {
     "end_time": "2024-03-25T11:22:54.677285Z",
     "start_time": "2024-03-25T11:22:54.671697Z"
    }
   },
   "execution_count": 24
  },
  {
   "cell_type": "code",
   "outputs": [],
   "source": [
    "# in_dim = 28*28\n",
    "# out_dim = 10\n",
    "# # model2 = Net(in_dim = 28*28,out_dim = 10)\n",
    "# da = torch.from_numpy(feature_numpy[10].reshape(28,28))\n",
    "# model2 = nn.Linear(28*28,10,dtype=torch.uint8)\n",
    "# model2(da)\n",
    "# # model2(torch.from_numpy(feature_numpy[10].reshape(28,28)))"
   ],
   "metadata": {
    "collapsed": false,
    "ExecuteTime": {
     "end_time": "2024-03-25T11:22:54.680737Z",
     "start_time": "2024-03-25T11:22:54.678447Z"
    }
   },
   "execution_count": 25
  },
  {
   "cell_type": "code",
   "outputs": [],
   "source": [
    "in_dim = 28*28\n",
    "out_dim = 10\n",
    "model = Net(in_dim = in_dim,out_dim = out_dim)\n",
    "\n",
    "# model.to(device)\n",
    "loss_func = nn.CrossEntropyLoss()\n",
    "lr = 0.01\n",
    "optimizer = torch.optim.SGD(model.parameters(),lr=lr)"
   ],
   "metadata": {
    "collapsed": false,
    "ExecuteTime": {
     "end_time": "2024-03-25T11:30:52.223437Z",
     "start_time": "2024-03-25T11:30:52.199488Z"
    }
   },
   "execution_count": 34
  },
  {
   "cell_type": "code",
   "outputs": [
    {
     "name": "stdout",
     "output_type": "stream",
     "text": [
      "Iteration: 500  Loss: 1.748948574066162  Accuracy: 60.42856979370117%\n",
      "Iteration: 1000  Loss: 0.8077144622802734  Accuracy: 80.13095092773438%\n",
      "Iteration: 1500  Loss: 0.46868184208869934  Accuracy: 85.41666412353516%\n",
      "Iteration: 2000  Loss: 0.4445408284664154  Accuracy: 87.83333587646484%\n",
      "Iteration: 2500  Loss: 0.43426626920700073  Accuracy: 89.22618865966797%\n",
      "Iteration: 3000  Loss: 0.18407046794891357  Accuracy: 89.89286041259766%\n",
      "Iteration: 3500  Loss: 0.3370848596096039  Accuracy: 90.58333587646484%\n",
      "Iteration: 4000  Loss: 0.1237400695681572  Accuracy: 91.13095092773438%\n",
      "Iteration: 4500  Loss: 0.49118441343307495  Accuracy: 91.76190185546875%\n",
      "Iteration: 5000  Loss: 0.17709402740001678  Accuracy: 91.8452377319336%\n",
      "Iteration: 5500  Loss: 0.2609004080295563  Accuracy: 92.38095092773438%\n",
      "Iteration: 6000  Loss: 0.34327176213264465  Accuracy: 92.82142639160156%\n",
      "Iteration: 6500  Loss: 0.13796508312225342  Accuracy: 93.29762268066406%\n",
      "Iteration: 7000  Loss: 0.2545457184314728  Accuracy: 93.57142639160156%\n",
      "Iteration: 7500  Loss: 0.17726565897464752  Accuracy: 93.75%\n",
      "Iteration: 8000  Loss: 0.2747930884361267  Accuracy: 94.0%\n",
      "Iteration: 8500  Loss: 0.14165234565734863  Accuracy: 94.20237731933594%\n",
      "Iteration: 9000  Loss: 0.11167420446872711  Accuracy: 94.46428680419922%\n",
      "Iteration: 9500  Loss: 0.09424526989459991  Accuracy: 94.45237731933594%\n",
      "Iteration: 10000  Loss: 0.1789730042219162  Accuracy: 94.67857360839844%\n",
      "Iteration: 10500  Loss: 0.08977426588535309  Accuracy: 94.76190185546875%\n",
      "Iteration: 11000  Loss: 0.13218623399734497  Accuracy: 94.91666412353516%\n",
      "Iteration: 11500  Loss: 0.15906904637813568  Accuracy: 95.11904907226562%\n",
      "Iteration: 12000  Loss: 0.12041637301445007  Accuracy: 95.27381134033203%\n",
      "Iteration: 12500  Loss: 0.15574969351291656  Accuracy: 95.27381134033203%\n",
      "Iteration: 13000  Loss: 0.08610376715660095  Accuracy: 95.36904907226562%\n",
      "Iteration: 13500  Loss: 0.16566644608974457  Accuracy: 95.46428680419922%\n",
      "Iteration: 14000  Loss: 0.2241601049900055  Accuracy: 95.5%\n",
      "Iteration: 14500  Loss: 0.06687938421964645  Accuracy: 95.54762268066406%\n",
      "Iteration: 15000  Loss: 0.040420159697532654  Accuracy: 95.79762268066406%\n",
      "Iteration: 15500  Loss: 0.13345229625701904  Accuracy: 95.70237731933594%\n",
      "Iteration: 16000  Loss: 0.06933190673589706  Accuracy: 95.96428680419922%\n",
      "Iteration: 16500  Loss: 0.06486240029335022  Accuracy: 95.96428680419922%\n",
      "Iteration: 17000  Loss: 0.13096150755882263  Accuracy: 96.10713958740234%\n",
      "Iteration: 17500  Loss: 0.11178044974803925  Accuracy: 96.16666412353516%\n",
      "Iteration: 18000  Loss: 0.07996604591608047  Accuracy: 96.10713958740234%\n",
      "Iteration: 18500  Loss: 0.09288544952869415  Accuracy: 96.16666412353516%\n",
      "Iteration: 19000  Loss: 0.0914444699883461  Accuracy: 96.27381134033203%\n",
      "Iteration: 19500  Loss: 0.037640705704689026  Accuracy: 96.29762268066406%\n",
      "Iteration: 20000  Loss: 0.058968473225831985  Accuracy: 96.25%\n",
      "Iteration: 20500  Loss: 0.05072192847728729  Accuracy: 96.47618865966797%\n",
      "Iteration: 21000  Loss: 0.04357529804110527  Accuracy: 96.42857360839844%\n",
      "Iteration: 21500  Loss: 0.04502536356449127  Accuracy: 96.54762268066406%\n",
      "Iteration: 22000  Loss: 0.05984804034233093  Accuracy: 96.47618865966797%\n",
      "Iteration: 22500  Loss: 0.02507399022579193  Accuracy: 96.52381134033203%\n",
      "Iteration: 23000  Loss: 0.033933259546756744  Accuracy: 96.55952453613281%\n",
      "Iteration: 23500  Loss: 0.020852070301771164  Accuracy: 96.66666412353516%\n",
      "Iteration: 24000  Loss: 0.020003363490104675  Accuracy: 96.5952377319336%\n",
      "Iteration: 24500  Loss: 0.10059335082769394  Accuracy: 96.70237731933594%\n",
      "Iteration: 25000  Loss: 0.0948660671710968  Accuracy: 96.55952453613281%\n",
      "Iteration: 25500  Loss: 0.05114509537816048  Accuracy: 96.73809814453125%\n",
      "Iteration: 26000  Loss: 0.01461748220026493  Accuracy: 96.64286041259766%\n",
      "Iteration: 26500  Loss: 0.04776744544506073  Accuracy: 96.80952453613281%\n",
      "Iteration: 27000  Loss: 0.019436096772551537  Accuracy: 96.72618865966797%\n",
      "Iteration: 27500  Loss: 0.03892842307686806  Accuracy: 96.94047546386719%\n",
      "Iteration: 28000  Loss: 0.05715218558907509  Accuracy: 96.8452377319336%\n",
      "Iteration: 28500  Loss: 0.013033905997872353  Accuracy: 96.92857360839844%\n",
      "Iteration: 29000  Loss: 0.047887254506349564  Accuracy: 96.89286041259766%\n",
      "Iteration: 29500  Loss: 0.012083698064088821  Accuracy: 96.72618865966797%\n"
     ]
    }
   ],
   "source": [
    "cnt = 0\n",
    "loss_list = []\n",
    "iter_list = []\n",
    "for epoch in range(n_epochs):\n",
    "    for i,(images,labels) in enumerate(trainloader):\n",
    "        train = Variable(images.view(-1,28*28))\n",
    "        train.to(device)\n",
    "        \n",
    "        \n",
    "        # print(train.shape)\n",
    "        \n",
    "        out = model(train)\n",
    "        labels = Variable(labels)\n",
    "        optimizer.zero_grad()\n",
    "        loss = loss_func(out,labels)\n",
    "        loss.backward()\n",
    "        optimizer.step()\n",
    "        cnt += 1\n",
    "        \n",
    "        if cnt % 50 == 0:\n",
    "            # Calculate Accuracy         \n",
    "            correct = 0\n",
    "            total = 0\n",
    "            # Predict test dataset\n",
    "            for images, labels in testloader: \n",
    "                test = Variable(images.view(-1, 28*28))\n",
    "                \n",
    "                # Forward propagation\n",
    "                outputs = model(test)\n",
    "                \n",
    "                # Get predictions from the maximum value\n",
    "                predicted = torch.max(outputs.data, 1)[1]\n",
    "                \n",
    "                # Total number of labels\n",
    "                total += len(labels)\n",
    "                \n",
    "                # Total correct predictions\n",
    "                correct += (predicted == labels).sum()\n",
    "            \n",
    "            accuracy = 100 * correct / float(total)\n",
    "            \n",
    "            # store loss and iteration\n",
    "            loss_list.append(loss.data)\n",
    "            iter_list.append(cnt)\n",
    "        if cnt % 500 == 0:\n",
    "            # Print Loss\n",
    "            print('Iteration: {}  Loss: {}  Accuracy: {}%'.format(cnt, loss.data, accuracy))"
   ],
   "metadata": {
    "collapsed": false,
    "ExecuteTime": {
     "end_time": "2024-03-25T11:32:38.248099Z",
     "start_time": "2024-03-25T11:30:53.815356Z"
    }
   },
   "execution_count": 35
  },
  {
   "cell_type": "code",
   "outputs": [],
   "source": [
    "torch.save(model.state_dict(), '/Users/timli/Documents/DeepLearning/DeepLearningProjects/learn_torch/model_ann.pth')"
   ],
   "metadata": {
    "collapsed": false,
    "ExecuteTime": {
     "end_time": "2024-03-25T11:33:48.662803Z",
     "start_time": "2024-03-25T11:33:48.645731Z"
    }
   },
   "execution_count": 38
  },
  {
   "cell_type": "code",
   "outputs": [
    {
     "data": {
      "text/plain": "<Figure size 640x480 with 1 Axes>",
      "image/png": "[encoded data removed]"
     },
     "metadata": {},
     "output_type": "display_data"
    }
   ],
   "source": [
    "plt.plot(iter_list,loss_list)\n",
    "plt.xlabel(\"Number of iteration\")\n",
    "plt.ylabel(\"Loss\")\n",
    "plt.title(\"Logistic Regression: Loss vs Number of iteration\")\n",
    "plt.show()\n"
   ],
   "metadata": {
    "collapsed": false,
    "ExecuteTime": {
     "end_time": "2024-03-25T11:33:45.043920Z",
     "start_time": "2024-03-25T11:33:44.926745Z"
    }
   },
   "execution_count": 37
  },
  {
   "cell_type": "code",
   "outputs": [],
   "source": [],
   "metadata": {
    "collapsed": false
   }
  }
 ],
 "metadata": {
  "language_info": {
   "name": "python"
  },
  "kernelspec": {
   "name": "python3",
   "language": "python",
   "display_name": "Python 3 (ipykernel)"
  }
 },
 "nbformat": 4,
 "nbformat_minor": 2
}
